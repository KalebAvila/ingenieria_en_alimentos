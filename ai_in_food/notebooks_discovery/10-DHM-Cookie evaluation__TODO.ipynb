{
 "cells": [
  {
   "cell_type": "code",
   "execution_count": null,
   "id": "8cd2435f",
   "metadata": {},
   "outputs": [],
   "source": [
    "# TODO: Train a new model in a new branch"
   ]
  },
  {
   "cell_type": "markdown",
   "id": "8d5ea88c",
   "metadata": {},
   "source": [
    "# Evaluation of a Cookie product! (not seen by training)"
   ]
  },
  {
   "cell_type": "markdown",
   "id": "8e24383f",
   "metadata": {},
   "source": [
    "## Imports"
   ]
  },
  {
   "cell_type": "code",
   "execution_count": 1,
   "id": "6dbc5790",
   "metadata": {},
   "outputs": [],
   "source": [
    "import pandas as pd\n",
    "\n",
    "from src.features.feature_utils import (\n",
    "    stem_list,\n",
    "    process_base_ingredients,\n",
    "    get_dim_reduction_from_simplification,\n",
    "    get_entity_simplification_for_feature,\n",
    "    REGEX_PATTERN,\n",
    "    RANDOM_SEED,\n",
    ")\n",
    "from src.features.feature_information import (\n",
    "    categs_dict,\n",
    "    flavor_df_columns_defined\n",
    ")\n",
    "from src.data.utils import (\n",
    "    get_general_path,\n",
    "    join_paths,\n",
    "    read_data,\n",
    "    read_pickle_with_pandas,\n",
    "    make_desired_folder,\n",
    "    check_if_filepath_exists,\n",
    "    save_as_csv,\n",
    "    save_as_parquet,\n",
    "    save_as_pickle,\n",
    "    concat_dataframes_from_list,\n",
    ")\n",
    "from src.features.build_features import (\n",
    "    get_usda_foods,\n",
    "    get_edamam_flavor_db, \n",
    "    get_base_ingredients, \n",
    "    process_usda_ingredients, \n",
    "    get_list_of_usda_ingredients,\n",
    "    get_sample_for_categories,\n",
    "    get_entity_traits,\n",
    "    compute_flavor_entity_reduction, \n",
    "    get_entity_features, \n",
    "    get_features_vector_wo_download,\n",
    "    feature_generation, \n",
    ")\n",
    "from src.models.model_utils import (\n",
    "    get_model,\n",
    "    predict\n",
    ")\n",
    "from src.visualization.visualization_utils import (\n",
    "    evaluate_metric,\n",
    "    plot_histogram,\n",
    "    plot_proportion_of_similarity_in_bins\n",
    ")\n",
    "from sklearn.metrics import roc_auc_score, average_precision_score"
   ]
  },
  {
   "cell_type": "markdown",
   "id": "0964c294",
   "metadata": {},
   "source": [
    "## Constants"
   ]
  },
  {
   "cell_type": "code",
   "execution_count": 2,
   "id": "cc262723",
   "metadata": {},
   "outputs": [],
   "source": [
    "EDAMAM_FLAVOR_DB = \"data/raw/edamam_flavor_dbs_nutrients.pkl\"\n",
    "USDA_FOOD_DB = \"data/raw/branded_food.csv\"\n",
    "USDA_SEARCHABLE_DATA = \"all_branded_foods_usda_searchable.csv\"\n",
    "INTERIM_DATA_PATH = \"data/interim\"\n",
    "AVAILABLE_INGREDIENTS_PATH = \"available_ingredients.pkl\"\n",
    "USDA_INGREDIENTS_LIST_PATH = \"usda_ingredients.pkl\"\n",
    "SAMPLES_PATH = \"samples.pkl\"\n",
    "SAMPLE_FEATURES_PATH = \"sample_features.parquet\"\n",
    "SAMPLE_TARGET_PATH = \"sample_target.parquet\"\n",
    "\n",
    "ENTITY_NUTRITION_FACTS_PATH = \"enf.pkl\"\n",
    "ENTITY_FLAVOR_PROFILE_PATH = \"efp.pkl\"\n",
    "ENTITY_FUNCTIONAL_GROUP_PATH = \"efg.pkl\"\n",
    "ENTITY_FLAVOR_MOLECULES_PATH = \"efm.pkl\"\n"
   ]
  },
  {
   "cell_type": "markdown",
   "id": "a2d64971",
   "metadata": {},
   "source": [
    "## Read Data"
   ]
  },
  {
   "cell_type": "code",
   "execution_count": 3,
   "id": "8d121f5c",
   "metadata": {},
   "outputs": [],
   "source": [
    "    general_path = get_general_path()\n",
    "    interim_path = join_paths(general_path, INTERIM_DATA_PATH)\n",
    "    base_ingredients_path = join_paths(\n",
    "        interim_path, AVAILABLE_INGREDIENTS_PATH\n",
    "    )"
   ]
  },
  {
   "cell_type": "code",
   "execution_count": 4,
   "id": "62f07c26",
   "metadata": {},
   "outputs": [
    {
     "name": "stderr",
     "output_type": "stream",
     "text": [
      "/mnt/c/Users/dhdzm/Documents/projects/ingeineria_en_alimentos/ingenieria_en_alimentos/ai_in_food/src/data/utils.py:39: DtypeWarning: Columns (2,3,4,6,9,12,17,18,19) have mixed types. Specify dtype option on import or set low_memory=False.\n",
      "  data = pd.read_csv(path, index_col=0, **additional_kwargs)\n"
     ]
    }
   ],
   "source": [
    "    usda_foods = get_usda_foods()"
   ]
  },
  {
   "cell_type": "code",
   "execution_count": 5,
   "id": "fd18cda3",
   "metadata": {},
   "outputs": [
    {
     "name": "stdout",
     "output_type": "stream",
     "text": [
      "Executing process_usda_ingredients function.\n",
      "No need to process... File exists at: /mnt/c/Users/dhdzm/Documents/projects/ingeineria_en_alimentos/ingenieria_en_alimentos/ai_in_food/src/data/../../data/interim/all_branded_foods_usda_searchable.csv\n"
     ]
    }
   ],
   "source": [
    "    searchable_usda_foods = process_usda_ingredients(usda_foods)"
   ]
  },
  {
   "cell_type": "code",
   "execution_count": 6,
   "id": "f07e109b",
   "metadata": {},
   "outputs": [
    {
     "data": {
      "text/plain": [
       "branded_food_category\n",
       "Cookies & Biscuits                 53542\n",
       "Cake, Cookie & Cupcake Mixes       14704\n",
       "Biscuits/Cookies                    7727\n",
       "Biscuits/Cookies (Shelf Stable)     1048\n",
       "Biscuits/Cookies (Frozen)              3\n",
       "Name: count, dtype: int64"
      ]
     },
     "execution_count": 6,
     "metadata": {},
     "output_type": "execute_result"
    }
   ],
   "source": [
    "unique_branded_food_categs = searchable_usda_foods.branded_food_category.value_counts()\n",
    "# See cookies\n",
    "unique_branded_food_categs[unique_branded_food_categs.index.str.contains(\"Cookie\")]"
   ]
  },
  {
   "cell_type": "code",
   "execution_count": 7,
   "id": "a4d841ee",
   "metadata": {},
   "outputs": [],
   "source": [
    "# New categs_dict for test\n",
    "categs_dict = {\n",
    "    'Cookies & Biscuits': 'cookies',\n",
    "    'Biscuits/Cookies': 'cookies',\n",
    "    'Biscuits/Cookies (Shelf Stable)': 'cookies',\n",
    "    'Cheese': 'cheese',\n",
    "    'Cheese - Block': 'cheese',\n",
    "    'Cheese/Cheese Substitutes': 'cheese',\n",
    "    'Cheese - Speciality': 'cheese',\n",
    "    'Breads & Buns': 'bread',\n",
    "    # 'Dried Breads (Shelf Stable)': 'bread',\n",
    "    'Bread': 'bread',\n",
    "    'Bread (Frozen)': 'bread',\n",
    "    'Bread (Shelf Stable)': 'bread',\n",
    "    'Frozen Bread & Dough': 'bread',\n",
    "    'Yogurt': 'yogurt',\n",
    "    'Yogurt/Yogurt Substitutes': 'yogurt',\n",
    "    'Yogurt (Perishable)': 'yogurt',\n",
    "    'Yogurt/Yogurt Substitutes (Perishable)': 'yogurt',\n",
    "    'Milk': 'milk',\n",
    "    'Plant Based Milk': 'milk',\n",
    "    'Milk/Milk Substitutes': 'milk',\n",
    "    'Canned Vegetables': 'vegetable',\n",
    "    'Frozen Vegetables': 'vegetable',\n",
    "    'Vegetables  Unprepared/Unprocessed (Frozen)': 'vegetable',\n",
    "    'Vegetables': 'vegetable',\n",
    "    # 'Pepperoni, Salami & Cold Cuts': 'meat',\n",
    "    'Sausages, Hotdogs & Brats': 'meat',\n",
    "    # 'Bacon, Sausages & Ribs': 'meat',\n",
    "    'Meat/Poultry/Other Animals  Unprepared/Unprocessed': 'meat',\n",
    "    'Canned Meat': 'meat',\n",
    "    'Other Meats': 'meat',\n",
    "    'Other Frozen Meats': 'meat',\n",
    "    # 'Poultry, Chicken & Turkey': 'meat',\n",
    "    # 'Frozen Poultry, Chicken & Turkey': 'meat',\n",
    "    'Vegetarian Frozen Meats': 'meat',\n",
    "    'Meat/Poultry/Other Animals – Unprepared/Unprocessed': 'meat',\n",
    "    'Chicken - Unprepared/Unprocessed': 'meat',\n",
    "    'Meat Substitutes': 'meat',\n",
    "    'Frozen Meat': 'meat',\n",
    "    'Salami / Cured Meat': 'meat',\n",
    "    'Fresh Meat': 'meat',\n",
    "    'Vegetable & Cooking Oils': 'oil',\n",
    "    'Oils Edible': 'oil',\n",
    "    'Oils Edible - Vegetable or Plant (Shelf Stable)': 'oil',\n",
    "    'Fruit': 'fruit',\n",
    "    'Canned Fruit': 'fruit',\n",
    "    'Frozen Fruit': 'fruit',\n",
    "    'Frozen Fruit & Fruit Juice Concentrates': 'fruit',\n",
    "    'Fruits  Unprepared/Unprocessed (Frozen)': 'fruit',\n",
    "    'Frozen Fish & Seafood': 'seafood',\n",
    "    'Frozen Fish/Seafood': 'seafood',\n",
    "    'Fish  Unprepared/Unprocessed': 'seafood',\n",
    "    'Fish – Unprepared/Unprocessed': 'seafood',\n",
    "    'Canned Seafood': 'seafood',\n",
    "    'Shellfish Unprepared/Unprocessed': 'seafood',\n",
    "    'Honey': 'honey',\n",
    "    'Eggs & Egg Substitutes': 'egg',\n",
    "    'Eggs/Eggs Substitutes': 'egg',\n",
    "    'Eggs Products/Substitutes': 'egg',\n",
    "    'Eggs': 'egg',\n",
    "    # 'Coffee': 'coffee',\n",
    "    # 'Coffee/Tea/Substitutes': 'coffee',\n",
    "    'Butter/Butter Substitutes': 'butter',\n",
    "    'Butter & Spread': 'butter',\n",
    "}"
   ]
  },
  {
   "cell_type": "code",
   "execution_count": 8,
   "id": "3df507e6",
   "metadata": {},
   "outputs": [],
   "source": [
    "    edamam_flavor_db = get_edamam_flavor_db()\n",
    "    base_ingredients = process_base_ingredients(get_base_ingredients())"
   ]
  },
  {
   "cell_type": "code",
   "execution_count": 9,
   "id": "a7a6c109",
   "metadata": {},
   "outputs": [
    {
     "name": "stdout",
     "output_type": "stream",
     "text": [
      "Executing get_list_of_usda_ingredients function.\n",
      "No need to process... File exists at: /mnt/c/Users/dhdzm/Documents/projects/ingeineria_en_alimentos/ingenieria_en_alimentos/ai_in_food/src/data/../../data/interim/usda_ingredients.pkl\n"
     ]
    }
   ],
   "source": [
    "usda_ingredients = get_list_of_usda_ingredients(\n",
    "        base_ingredients=base_ingredients,\n",
    "        usda_foods=searchable_usda_foods,\n",
    "    )"
   ]
  },
  {
   "cell_type": "markdown",
   "id": "95cada8a",
   "metadata": {},
   "source": [
    "## Process data"
   ]
  },
  {
   "cell_type": "code",
   "execution_count": 10,
   "id": "f8b11cdf",
   "metadata": {},
   "outputs": [],
   "source": [
    "usda_ingredients[\"filtered_category\"] = usda_ingredients.category.map(categs_dict)#.filtered_category.value_counts()"
   ]
  },
  {
   "cell_type": "code",
   "execution_count": 11,
   "id": "c16a3a3f",
   "metadata": {},
   "outputs": [
    {
     "data": {
      "text/plain": [
       "filtered_category\n",
       "cheese       81763\n",
       "cookies      62301\n",
       "bread        55682\n",
       "vegetable    41200\n",
       "yogurt       39301\n",
       "meat         37759\n",
       "milk         30655\n",
       "fruit        26359\n",
       "seafood      22777\n",
       "oil          17469\n",
       "butter        8393\n",
       "honey         5008\n",
       "egg           2982\n",
       "Name: count, dtype: int64"
      ]
     },
     "execution_count": 11,
     "metadata": {},
     "output_type": "execute_result"
    }
   ],
   "source": [
    "usda_ingredients.filtered_category.value_counts()"
   ]
  },
  {
   "cell_type": "code",
   "execution_count": 12,
   "id": "c78b33a0",
   "metadata": {},
   "outputs": [
    {
     "data": {
      "text/plain": [
       "['yogurt',\n",
       " 'cheese',\n",
       " 'seafood',\n",
       " 'meat',\n",
       " 'cookies',\n",
       " 'fruit',\n",
       " 'egg',\n",
       " 'oil',\n",
       " 'bread',\n",
       " 'honey',\n",
       " 'milk',\n",
       " 'vegetable',\n",
       " 'butter']"
      ]
     },
     "execution_count": 12,
     "metadata": {},
     "output_type": "execute_result"
    }
   ],
   "source": [
    "    unique_categories = list(set(categs_dict.values()))\n",
    "    unique_categories"
   ]
  },
  {
   "cell_type": "code",
   "execution_count": 13,
   "id": "531a8682",
   "metadata": {},
   "outputs": [
    {
     "name": "stdout",
     "output_type": "stream",
     "text": [
      "['yogurt', 'cheese', 'seafood', 'meat', 'cookies', 'fruit', 'egg', 'oil', 'bread', 'honey', 'milk', 'vegetable', 'butter'] hello\n",
      "yogurt\n",
      "['Yogurt/Yogurt Substitutes (Perishable)' 'Yogurt'\n",
      " 'Yogurt/Yogurt Substitutes' 'Yogurt (Perishable)']\n",
      "Getting sample for category yogurt in the subcategory Yogurt/Yogurt Substitutes (Perishable)\n",
      "Getting sample for category yogurt in the subcategory Yogurt\n",
      "Getting sample for category yogurt in the subcategory Yogurt/Yogurt Substitutes\n",
      "Getting sample for category yogurt in the subcategory Yogurt (Perishable)\n",
      "cheese\n",
      "['Cheese' 'Cheese/Cheese Substitutes' 'Cheese - Block']\n",
      "Getting sample for category cheese in the subcategory Cheese\n",
      "Getting sample for category cheese in the subcategory Cheese/Cheese Substitutes\n",
      "Getting sample for category cheese in the subcategory Cheese - Block\n",
      "seafood\n",
      "['Frozen Fish & Seafood' 'Canned Seafood'\n",
      " 'Shellfish Unprepared/Unprocessed' 'Fish  Unprepared/Unprocessed'\n",
      " 'Fish – Unprepared/Unprocessed' 'Frozen Fish/Seafood']\n",
      "Getting sample for category seafood in the subcategory Frozen Fish & Seafood\n",
      "Getting sample for category seafood in the subcategory Canned Seafood\n",
      "Getting sample for category seafood in the subcategory Shellfish Unprepared/Unprocessed\n",
      "Getting sample for category seafood in the subcategory Fish  Unprepared/Unprocessed\n",
      "Getting sample for category seafood in the subcategory Fish – Unprepared/Unprocessed\n",
      "Getting sample for category seafood in the subcategory Frozen Fish/Seafood\n",
      "meat\n",
      "['Canned Meat' 'Other Meats' 'Sausages, Hotdogs & Brats'\n",
      " 'Vegetarian Frozen Meats' 'Other Frozen Meats'\n",
      " 'Meat/Poultry/Other Animals  Unprepared/Unprocessed' 'Meat Substitutes'\n",
      " 'Meat/Poultry/Other Animals – Unprepared/Unprocessed' 'Frozen Meat'\n",
      " 'Salami / Cured Meat' 'Fresh Meat' 'Chicken - Unprepared/Unprocessed']\n",
      "Getting sample for category meat in the subcategory Canned Meat\n",
      "Getting sample for category meat in the subcategory Other Meats\n",
      "Getting sample for category meat in the subcategory Sausages, Hotdogs & Brats\n",
      "Getting sample for category meat in the subcategory Vegetarian Frozen Meats\n",
      "Getting sample for category meat in the subcategory Other Frozen Meats\n",
      "Getting sample for category meat in the subcategory Meat/Poultry/Other Animals  Unprepared/Unprocessed\n",
      "Getting sample for category meat in the subcategory Meat Substitutes\n",
      "Getting sample for category meat in the subcategory Meat/Poultry/Other Animals – Unprepared/Unprocessed\n",
      "Getting sample for category meat in the subcategory Frozen Meat\n",
      "Getting sample for category meat in the subcategory Salami / Cured Meat\n",
      "Getting sample for category meat in the subcategory Fresh Meat\n",
      "Getting sample for category meat in the subcategory Chicken - Unprepared/Unprocessed\n",
      "cookies\n",
      "['Biscuits/Cookies (Shelf Stable)' 'Cookies & Biscuits' 'Biscuits/Cookies']\n",
      "Getting sample for category cookies in the subcategory Biscuits/Cookies (Shelf Stable)\n",
      "Getting sample for category cookies in the subcategory Cookies & Biscuits\n",
      "Getting sample for category cookies in the subcategory Biscuits/Cookies\n",
      "fruit\n",
      "['Canned Fruit' 'Frozen Fruit & Fruit Juice Concentrates' 'Frozen Fruit'\n",
      " 'Fruits  Unprepared/Unprocessed (Frozen)']\n",
      "Getting sample for category fruit in the subcategory Canned Fruit\n",
      "Getting sample for category fruit in the subcategory Frozen Fruit & Fruit Juice Concentrates\n",
      "Getting sample for category fruit in the subcategory Frozen Fruit\n",
      "Getting sample for category fruit in the subcategory Fruits  Unprepared/Unprocessed (Frozen)\n",
      "egg\n",
      "['Eggs & Egg Substitutes' 'Eggs' 'Eggs/Eggs Substitutes'\n",
      " 'Eggs Products/Substitutes']\n",
      "Getting sample for category egg in the subcategory Eggs & Egg Substitutes\n",
      "Getting sample for category egg in the subcategory Eggs\n",
      "Getting sample for category egg in the subcategory Eggs/Eggs Substitutes\n",
      "Getting sample for category egg in the subcategory Eggs Products/Substitutes\n",
      "oil\n",
      "['Vegetable & Cooking Oils' 'Oils Edible'\n",
      " 'Oils Edible - Vegetable or Plant (Shelf Stable)']\n",
      "Getting sample for category oil in the subcategory Vegetable & Cooking Oils\n",
      "Getting sample for category oil in the subcategory Oils Edible\n",
      "Getting sample for category oil in the subcategory Oils Edible - Vegetable or Plant (Shelf Stable)\n",
      "bread\n",
      "['Breads & Buns' 'Frozen Bread & Dough' 'Bread' 'Bread (Frozen)'\n",
      " 'Bread (Shelf Stable)']\n",
      "Getting sample for category bread in the subcategory Breads & Buns\n",
      "Getting sample for category bread in the subcategory Frozen Bread & Dough\n",
      "Getting sample for category bread in the subcategory Bread\n",
      "Getting sample for category bread in the subcategory Bread (Frozen)\n",
      "Getting sample for category bread in the subcategory Bread (Shelf Stable)\n",
      "honey\n",
      "['Honey']\n",
      "Getting sample for category honey in the subcategory Honey\n",
      "milk\n",
      "['Milk' 'Plant Based Milk' 'Milk/Milk Substitutes']\n",
      "Getting sample for category milk in the subcategory Milk\n",
      "Getting sample for category milk in the subcategory Plant Based Milk\n",
      "Getting sample for category milk in the subcategory Milk/Milk Substitutes\n",
      "vegetable\n",
      "['Frozen Vegetables' 'Canned Vegetables'\n",
      " 'Vegetables  Unprepared/Unprocessed (Frozen)' 'Vegetables']\n",
      "Getting sample for category vegetable in the subcategory Frozen Vegetables\n",
      "Getting sample for category vegetable in the subcategory Canned Vegetables\n",
      "Getting sample for category vegetable in the subcategory Vegetables  Unprepared/Unprocessed (Frozen)\n",
      "Getting sample for category vegetable in the subcategory Vegetables\n",
      "butter\n",
      "['Butter & Spread' 'Butter/Butter Substitutes']\n",
      "Getting sample for category butter in the subcategory Butter & Spread\n",
      "Getting sample for category butter in the subcategory Butter/Butter Substitutes\n"
     ]
    }
   ],
   "source": [
    "def get_sample_for_categories(data_set, size=150):\n",
    "    information_samples = []\n",
    "    unique_categories = list(set(categs_dict.values()))\n",
    "    print(unique_categories, 'hello')\n",
    "    for categ in unique_categories:\n",
    "        print(categ)\n",
    "        subcateg_df = data_set[data_set.filtered_category == categ]\n",
    "        subcategs = subcateg_df.category.unique()\n",
    "        print(subcategs)\n",
    "        for subcateg in subcategs:\n",
    "            print(f\"Getting sample for category {categ} \"\n",
    "                  f\"in the subcategory {subcateg}\")\n",
    "            subcateg_condition = data_set.category == subcateg\n",
    "            ingredients_condition = data_set.flavor_ingredients_count != 1\n",
    "            try:\n",
    "                sample_df = data_set[\n",
    "                    ((subcateg_condition) & (ingredients_condition))\n",
    "                ].sample(size, replace=True, random_state=RANDOM_SEED)\n",
    "            except:\n",
    "                sample_df = data_set[\n",
    "                    subcateg_condition\n",
    "                ].sample(size, replace=True, random_state=RANDOM_SEED)\n",
    "            final_sample = sample_df\\\n",
    "                .reset_index()\\\n",
    "                .drop_duplicates('fdc_id')\\\n",
    "                .set_index('fdc_id')\n",
    "            information_samples.append(final_sample)\n",
    "    all_samples_df = concat_dataframes_from_list(information_samples)\n",
    "    all_samples_df['str_flavor_ingredients'] = all_samples_df.\\\n",
    "        flavor_ingredients.apply(sorted).astype('str')\n",
    "    return all_samples_df\n",
    "\n",
    "samples = get_sample_for_categories(usda_ingredients)"
   ]
  },
  {
   "cell_type": "code",
   "execution_count": 14,
   "id": "9cb6b8c5",
   "metadata": {},
   "outputs": [],
   "source": [
    "efm, efp, efg, enf = get_entity_features()"
   ]
  },
  {
   "cell_type": "code",
   "execution_count": 15,
   "id": "75facff3",
   "metadata": {},
   "outputs": [],
   "source": [
    "features = samples.flavor_ingredients.apply(get_features_vector_wo_download, efm=efm, efp=efp, efg=efg, enf=enf)\n",
    "target = samples[['filtered_category']]"
   ]
  },
  {
   "cell_type": "code",
   "execution_count": 16,
   "id": "83cedb5d",
   "metadata": {},
   "outputs": [],
   "source": [
    "cookies = target[target.filtered_category==\"cookies\"].reset_index()\n",
    "cookies['fdc_id2'] = [target.index.to_list()]*cookies.shape[0]"
   ]
  },
  {
   "cell_type": "code",
   "execution_count": 17,
   "id": "577ab381",
   "metadata": {},
   "outputs": [],
   "source": [
    "all_cookies = cookies.explode('fdc_id2').merge(target.reset_index(), left_on='fdc_id2', right_on='fdc_id')"
   ]
  },
  {
   "cell_type": "code",
   "execution_count": 18,
   "id": "dbaf7d5a",
   "metadata": {},
   "outputs": [],
   "source": [
    "all_cookies.loc[all_cookies.filtered_category_x == all_cookies.filtered_category_y, 'similarity'] = 1\n",
    "all_cookies.loc[all_cookies.filtered_category_x != all_cookies.filtered_category_y, 'similarity'] = 0"
   ]
  },
  {
   "cell_type": "code",
   "execution_count": 19,
   "id": "b2816fc5",
   "metadata": {},
   "outputs": [
    {
     "data": {
      "text/plain": [
       "0.08637873754152824"
      ]
     },
     "execution_count": 19,
     "metadata": {},
     "output_type": "execute_result"
    }
   ],
   "source": [
    "all_cookies.similarity.mean()"
   ]
  },
  {
   "cell_type": "code",
   "execution_count": 20,
   "id": "4b4c651a",
   "metadata": {},
   "outputs": [],
   "source": [
    "simplified_cookies = all_cookies.drop(['filtered_category_x', 'filtered_category_y', 'fdc_id2'], axis=1)"
   ]
  },
  {
   "cell_type": "code",
   "execution_count": 21,
   "id": "ad4a5399",
   "metadata": {},
   "outputs": [],
   "source": [
    "simplified_cookies_with_features = simplified_cookies.merge(\n",
    "    features.reset_index().rename(columns={'fdc_id': 'fdc_id_x'}),\n",
    "    on='fdc_id_x', how='left',\n",
    ").merge(\n",
    "    features.reset_index().rename(columns={'fdc_id': 'fdc_id_y'}),\n",
    "    on='fdc_id_y', how='left',\n",
    ")"
   ]
  },
  {
   "cell_type": "code",
   "execution_count": 22,
   "id": "fb2b71de",
   "metadata": {},
   "outputs": [],
   "source": [
    "x_cookies = simplified_cookies_with_features.drop(['similarity', 'fdc_id_x', 'fdc_id_y'], axis=1)\n",
    "y_cookies = simplified_cookies_with_features[['similarity']]"
   ]
  },
  {
   "cell_type": "code",
   "execution_count": 23,
   "id": "9f671625",
   "metadata": {},
   "outputs": [],
   "source": [
    "model = get_model()"
   ]
  },
  {
   "cell_type": "code",
   "execution_count": 24,
   "id": "1f011314",
   "metadata": {},
   "outputs": [],
   "source": [
    "pred_cookies = predict(model, x_cookies)"
   ]
  },
  {
   "cell_type": "markdown",
   "id": "b78ba95b",
   "metadata": {},
   "source": [
    "## Results"
   ]
  },
  {
   "cell_type": "code",
   "execution_count": 25,
   "id": "ea4ac519",
   "metadata": {},
   "outputs": [
    {
     "name": "stdout",
     "output_type": "stream",
     "text": [
      "The ROC_AUC score is: 0.8000208924561266\n",
      "The Average Precision score is: 0.18075755063076224\n"
     ]
    },
    {
     "data": {
      "text/plain": [
       "0.18075755063076224"
      ]
     },
     "execution_count": 25,
     "metadata": {},
     "output_type": "execute_result"
    }
   ],
   "source": [
    "evaluate_metric(\n",
    "        y_true=y_cookies,\n",
    "        y_pred=pred_cookies,\n",
    "        metric=roc_auc_score,\n",
    "        metric_name='ROC_AUC',\n",
    ")\n",
    "evaluate_metric(\n",
    "        y_true=y_cookies,\n",
    "        y_pred=pred_cookies,\n",
    "        metric=average_precision_score,\n",
    "        metric_name='Average Precision',\n",
    "    )"
   ]
  },
  {
   "cell_type": "code",
   "execution_count": 28,
   "id": "3fbaa676",
   "metadata": {},
   "outputs": [
    {
     "data": {
      "image/png": "[encoded data removed]",
      "text/plain": [
       "<Figure size 1000x500 with 1 Axes>"
      ]
     },
     "metadata": {},
     "output_type": "display_data"
    }
   ],
   "source": [
    "plot_histogram(\n",
    "    y_true=y_cookies.rename(columns={'similarity': 'similar'}),\n",
    "    y_pred=pred_cookies,\n",
    "    fig_name='',\n",
    "    save=False,\n",
    ")"
   ]
  },
  {
   "cell_type": "markdown",
   "id": "00a79be4",
   "metadata": {},
   "source": [
    "## Conclusions:\n",
    "En conclusión, existe una separabilidad respecto a la similitud de dos conjuntos:\n",
    "1. La similitud entre galletas y otros productos que no son galletas.\n",
    "2. La similitud entre galletas y galletas que sí son galletas. \n",
    "\n",
    "Por la distinta similitud en la distribución que se encuentra con este alimento no visto para el entrenamiento. Se puede intuir que el modelo está logrando identificar algo. Sin embargo para términos prácticos, la distribución está muy cargada hacia la izquierda por lo que encontrar resultados con esto es virtualmente imposible. \n",
    "\n",
    "Se recomienda re-entrenar el modelo, ahora con galletas para que entienda qué es este producto como tal y tener mejores resultados. Después ya se puede comparar. "
   ]
  },
  {
   "cell_type": "code",
   "execution_count": null,
   "id": "9608d720",
   "metadata": {},
   "outputs": [],
   "source": []
  }
 ],
 "metadata": {
  "kernelspec": {
   "display_name": "Python 3 (ipykernel)",
   "language": "python",
   "name": "python3"
  },
  "language_info": {
   "codemirror_mode": {
    "name": "ipython",
    "version": 3
   },
   "file_extension": ".py",
   "mimetype": "text/x-python",
   "name": "python",
   "nbconvert_exporter": "python",
   "pygments_lexer": "ipython3",
   "version": "3.8.10"
  }
 },
 "nbformat": 4,
 "nbformat_minor": 5
}
