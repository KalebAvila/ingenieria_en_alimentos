{
 "cells": [
  {
   "cell_type": "markdown",
   "id": "d9587bf9",
   "metadata": {},
   "source": [
    "## Imports"
   ]
  },
  {
   "cell_type": "code",
   "execution_count": 87,
   "id": "d29c591b",
   "metadata": {},
   "outputs": [],
   "source": [
    "import pandas as pd\n",
    "import numpy as np\n",
    "import matplotlib as mpl\n",
    "import matplotlib.pyplot as plt \n",
    "import shap\n",
    "import seaborn as sns"
   ]
  },
  {
   "cell_type": "markdown",
   "id": "572e993b",
   "metadata": {},
   "source": [
    "## Input info"
   ]
  },
  {
   "cell_type": "code",
   "execution_count": 3,
   "id": "94420579",
   "metadata": {},
   "outputs": [],
   "source": [
    "entity_flavor_molecules_name_reduced = pd.read_pickle(\"../data/interim/efm.pkl\")\n",
    "entity_flavor_profile_reduced = pd.read_pickle(\"../data/interim/efp.pkl\")\n",
    "entity_functional_group_reduced = pd.read_pickle(\"../data/interim/efg.pkl\")\n",
    "entity_nutrition_facts = pd.read_pickle(\"../data/interim/enf.pkl\")"
   ]
  },
  {
   "cell_type": "code",
   "execution_count": 4,
   "id": "1ba853d4",
   "metadata": {},
   "outputs": [],
   "source": [
    "base_ingredients = pd.read_pickle('../data/interim/available_ingredients.pkl')\n",
    "base_ingredients = pd.Series(base_ingredients.index)\n",
    "\n",
    "model = pd.read_pickle('../models/first_model.pkl')\n",
    "model = pd.read_pickle('../models/model.pkl')"
   ]
  },
  {
   "cell_type": "code",
   "execution_count": 5,
   "id": "3cc01824",
   "metadata": {},
   "outputs": [],
   "source": [
    "# explainer\n",
    "explainer = shap.TreeExplainer(model)"
   ]
  },
  {
   "cell_type": "markdown",
   "id": "55d38c4d",
   "metadata": {},
   "source": [
    "## Functions"
   ]
  },
  {
   "cell_type": "code",
   "execution_count": 6,
   "id": "870f8038",
   "metadata": {},
   "outputs": [],
   "source": [
    "def get_features_vector(ingredient_list):\n",
    "    return pd.concat([\n",
    "        entity_flavor_molecules_name_reduced.loc[ingredient_list].mean(), \n",
    "        entity_flavor_profile_reduced.loc[ingredient_list].mean(), \n",
    "        entity_functional_group_reduced.loc[ingredient_list].mean(),\n",
    "        entity_nutrition_facts.loc[ingredient_list].mean()\n",
    "    ])"
   ]
  },
  {
   "cell_type": "code",
   "execution_count": 7,
   "id": "70fa9dde",
   "metadata": {},
   "outputs": [],
   "source": []
  },
  {
   "cell_type": "code",
   "execution_count": 8,
   "id": "cadcc184",
   "metadata": {},
   "outputs": [],
   "source": [
    "def get_score(x_vals):\n",
    "    result = model.predict_proba(x_vals)[:,1]\n",
    "    return result"
   ]
  },
  {
   "cell_type": "code",
   "execution_count": 9,
   "id": "23568ba4",
   "metadata": {},
   "outputs": [],
   "source": [
    "def get_ingredient_list_from_length(length, undesired_ingredients=[]):\n",
    "    ingredient_list = base_ingredients[~(base_ingredients.isin(undesired_ingredients))].sample(length).to_list()\n",
    "    return ingredient_list"
   ]
  },
  {
   "cell_type": "markdown",
   "id": "b04c9f35",
   "metadata": {},
   "source": [
    "# Model use"
   ]
  },
  {
   "cell_type": "code",
   "execution_count": 29,
   "id": "5bacd71c",
   "metadata": {},
   "outputs": [
    {
     "data": {
      "text/plain": [
       "array([0.39538462])"
      ]
     },
     "execution_count": 29,
     "metadata": {},
     "output_type": "execute_result"
    }
   ],
   "source": [
    "product_1 = ['Yogurt' ]\n",
    "product_2 = [\n",
    "  'Loquat',\n",
    "  'Strawberry',\n",
    "  'Syrup',\n",
    "  'Sugar',\n",
    "  #'Milk',\n",
    "  'Barley',\n",
    "  'Wild boar']\n",
    "\n",
    "product_1, product_2 = ['Asparagus', 'Salt', 'Water'], ['Beans', 'Carrot', 'Corn', 'Green Beans', 'Peas']\n",
    "\n",
    "\n",
    "product_1_features = get_features_vector(product_1)\n",
    "product_2_features = get_features_vector(product_2)\n",
    "\n",
    "x_vals = make_features_model_consumable_forSeries(product_1_features, product_2_features)\n",
    "get_score(x_vals)"
   ]
  },
  {
   "cell_type": "code",
   "execution_count": 31,
   "id": "8251e584",
   "metadata": {},
   "outputs": [],
   "source": [
    "    max_display = 20\n",
    "    shap_values = explainer.shap_values(x_vals)[1]\n",
    "    processed_shap_values = pd.DataFrame(shap_values, columns=x_vals.columns).abs().T.sort_values(0, ascending=False)\n",
    "    processed_shap_values['shap_vals'] = pd.DataFrame(shap_values, columns=x_vals.columns).T.loc[processed_shap_values.index][0]\n"
   ]
  },
  {
   "cell_type": "code",
   "execution_count": 59,
   "id": "4e2dbaa9",
   "metadata": {},
   "outputs": [],
   "source": [
    "    top_features = pd.Series(processed_shap_values.head(50).index)\n"
   ]
  },
  {
   "cell_type": "code",
   "execution_count": 60,
   "id": "fce11c3c",
   "metadata": {},
   "outputs": [
    {
     "data": {
      "text/html": [
       "<div>\n",
       "<style scoped>\n",
       "    .dataframe tbody tr th:only-of-type {\n",
       "        vertical-align: middle;\n",
       "    }\n",
       "\n",
       "    .dataframe tbody tr th {\n",
       "        vertical-align: top;\n",
       "    }\n",
       "\n",
       "    .dataframe thead th {\n",
       "        text-align: right;\n",
       "    }\n",
       "</style>\n",
       "<table border=\"1\" class=\"dataframe\">\n",
       "  <thead>\n",
       "    <tr style=\"text-align: right;\">\n",
       "      <th></th>\n",
       "      <th>0</th>\n",
       "      <th>shap_vals</th>\n",
       "    </tr>\n",
       "  </thead>\n",
       "  <tbody>\n",
       "    <tr>\n",
       "      <th>ENERC_KCAL_x</th>\n",
       "      <td>1.325584e-02</td>\n",
       "      <td>1.325584e-02</td>\n",
       "    </tr>\n",
       "    <tr>\n",
       "      <th>PROCNT_x</th>\n",
       "      <td>9.958655e-03</td>\n",
       "      <td>9.958655e-03</td>\n",
       "    </tr>\n",
       "    <tr>\n",
       "      <th>flavor_profile__46_x</th>\n",
       "      <td>9.852024e-03</td>\n",
       "      <td>9.852024e-03</td>\n",
       "    </tr>\n",
       "    <tr>\n",
       "      <th>functional_group__13_x</th>\n",
       "      <td>8.961884e-03</td>\n",
       "      <td>8.961884e-03</td>\n",
       "    </tr>\n",
       "    <tr>\n",
       "      <th>NA_x</th>\n",
       "      <td>7.543008e-03</td>\n",
       "      <td>7.543008e-03</td>\n",
       "    </tr>\n",
       "    <tr>\n",
       "      <th>...</th>\n",
       "      <td>...</td>\n",
       "      <td>...</td>\n",
       "    </tr>\n",
       "    <tr>\n",
       "      <th>functional_group__10_x</th>\n",
       "      <td>4.939649e-06</td>\n",
       "      <td>4.939649e-06</td>\n",
       "    </tr>\n",
       "    <tr>\n",
       "      <th>common_name__40_y</th>\n",
       "      <td>4.842763e-06</td>\n",
       "      <td>4.842763e-06</td>\n",
       "    </tr>\n",
       "    <tr>\n",
       "      <th>common_name__71_x</th>\n",
       "      <td>3.262378e-06</td>\n",
       "      <td>3.262378e-06</td>\n",
       "    </tr>\n",
       "    <tr>\n",
       "      <th>common_name__28_x</th>\n",
       "      <td>2.148535e-06</td>\n",
       "      <td>-2.148535e-06</td>\n",
       "    </tr>\n",
       "    <tr>\n",
       "      <th>flavor_profile__22_x</th>\n",
       "      <td>6.037106e-07</td>\n",
       "      <td>-6.037106e-07</td>\n",
       "    </tr>\n",
       "  </tbody>\n",
       "</table>\n",
       "<p>408 rows × 2 columns</p>\n",
       "</div>"
      ],
      "text/plain": [
       "                                   0     shap_vals\n",
       "ENERC_KCAL_x            1.325584e-02  1.325584e-02\n",
       "PROCNT_x                9.958655e-03  9.958655e-03\n",
       "flavor_profile__46_x    9.852024e-03  9.852024e-03\n",
       "functional_group__13_x  8.961884e-03  8.961884e-03\n",
       "NA_x                    7.543008e-03  7.543008e-03\n",
       "...                              ...           ...\n",
       "functional_group__10_x  4.939649e-06  4.939649e-06\n",
       "common_name__40_y       4.842763e-06  4.842763e-06\n",
       "common_name__71_x       3.262378e-06  3.262378e-06\n",
       "common_name__28_x       2.148535e-06 -2.148535e-06\n",
       "flavor_profile__22_x    6.037106e-07 -6.037106e-07\n",
       "\n",
       "[408 rows x 2 columns]"
      ]
     },
     "execution_count": 60,
     "metadata": {},
     "output_type": "execute_result"
    }
   ],
   "source": [
    "processed_shap_values"
   ]
  },
  {
   "cell_type": "code",
   "execution_count": 66,
   "id": "3c6122f4",
   "metadata": {},
   "outputs": [],
   "source": [
    "relevant_features = top_features.str.split('__').apply(lambda x: x[0])\n",
    "condition__flavor_profile = relevant_features.str.startswith('flavor_profile')\n",
    "condition__common_name = relevant_features.str.startswith('common_name')\n",
    "condition__functional_group = relevant_features.str.startswith('functional_group')\n",
    "condition__nutrients = ~(condition__flavor_profile|condition__common_name|condition__functional_group)\n",
    "relevant_features_df = pd.DataFrame(relevant_features)\n",
    "relevant_features_df.loc[condition__flavor_profile, 'tag'] = 'flavor_profile'\n",
    "relevant_features_df.loc[condition__common_name, 'tag'] = 'common_name'\n",
    "relevant_features_df.loc[condition__functional_group, 'tag'] = 'functional_group'\n",
    "relevant_features_df.loc[condition__nutrients, 'tag'] = 'nutrients'\n",
    "relevant_datasets = relevant_features_df.tag.value_counts(normalize=True)\n",
    "\n",
    "processed_shap_values = processed_shap_values.head(max_display)\n",
    "processed_shap_values.loc[processed_shap_values.shap_vals > 0, 'color'] = 'deeppink'\n",
    "processed_shap_values.loc[processed_shap_values.shap_vals <= 0, 'color'] = 'dodgerblue'\n"
   ]
  },
  {
   "cell_type": "code",
   "execution_count": 70,
   "id": "c149374f",
   "metadata": {},
   "outputs": [
    {
     "data": {
      "text/plain": [
       "<Figure size 640x480 with 2 Axes>"
      ]
     },
     "metadata": {},
     "output_type": "display_data"
    }
   ],
   "source": [
    "    plt.figure()\n",
    "    plt.subplot(121)\n",
    "    \n",
    "    sns.barplot(y=processed_shap_values.index, x=processed_shap_values.shap_vals, palette=processed_shap_values.color, orient='h')\n",
    "    plt.box(False)\n",
    "    plt.xlabel('Valores Shap')\n",
    "    plt.ylabel('Características más relevantes')\n",
    "    plt.subplot(122)\n",
    "    pie_results = relevant_datasets.to_dict()\n",
    "    datasets_colors = {'nutrition': 'seagreen', 'flavor': 'lightsalmon', 'molecule_name': 'crimson', 'profile': 'slateblue'}\n",
    "    colors=[datasets_colors.get(key) for key in pie_results.keys()]\n",
    "    plt.pie(x=pie_results.values(), labels=pie_results.keys(), startangle=90, autopct='%1.1f%%', colors=colors)\n",
    "    plt.show()\n"
   ]
  },
  {
   "cell_type": "code",
   "execution_count": 10,
   "id": "8378a0aa",
   "metadata": {},
   "outputs": [
    {
     "data": {
      "image/png": "[encoded data removed]",
      "text/plain": [
       "<Figure size 640x480 with 2 Axes>"
      ]
     },
     "metadata": {},
     "output_type": "display_data"
    }
   ],
   "source": [
    "    max_display = 20\n",
    "    shap_values = explainer.shap_values(x_vals)[1]\n",
    "    \n",
    "    processed_shap_values = pd.DataFrame(shap_values, columns=x_vals.columns).abs().T.sort_values(0, ascending=False)\n",
    "    processed_shap_values['shap_vals'] = pd.DataFrame(shap_values, columns=x_vals.columns).T.loc[processed_shap_values.index][0]\n",
    "\n",
    "    top_features = pd.Series(processed_shap_values.head(max_display).index)\n",
    "    x_or_y = top_features.str.split('_').apply(lambda x: x[-1]).value_counts(normalize=True)\n",
    "    nutrition_features = pd.Series(entity_nutrition_facts.columns).str.split('_').apply(lambda x:x[0]).to_list()\n",
    "\n",
    "    relevant_features = top_features.str.split('_').apply(lambda x: x[0])\n",
    "    relevant_features.loc[relevant_features.isin(nutrition_features)] = 'nutrition'\n",
    "    relevant_features.loc[relevant_features=='common'] = 'molecule_name'\n",
    "    relevant_datasets = relevant_features.value_counts(normalize=True)\n",
    "\n",
    "    relevant_features2 = relevant_features +'_' + relevant_features.str.split('_').apply(lambda x: x[-1])\n",
    "    relevant_datasets_x_or_y =  relevant_features2.value_counts(normalize=True)\n",
    "\n",
    "    processed_shap_values = processed_shap_values.head(max_display)\n",
    "    processed_shap_values.loc[processed_shap_values.shap_vals > 0, 'color'] = 'deeppink'\n",
    "    processed_shap_values.loc[processed_shap_values.shap_vals <= 0, 'color'] = 'dodgerblue'\n",
    "    plt.subplot(121)\n",
    "    sns.barplot(y=processed_shap_values.index, x=processed_shap_values.shap_vals, palette=processed_shap_values.color, orient='h')\n",
    "    plt.box(False)\n",
    "    plt.xlabel('Valores Shap')\n",
    "    plt.ylabel('Características más relevantes')\n",
    "    plt.subplot(122)\n",
    "    pie_results = relevant_datasets.to_dict()\n",
    "    datasets_colors = {'nutrition': 'indianred', 'flavor': 'steelblue', 'molecule_name': 'turquoise', 'profile': 'lightblue'}\n",
    "    colors=[datasets_colors.get(key) for key in pie_results.keys()]\n",
    "    plt.pie(x=pie_results.values(), labels=pie_results.keys(), startangle=90, autopct='%1.1f%%', colors=colors)\n",
    "    plt.show()\n"
   ]
  },
  {
   "cell_type": "code",
   "execution_count": 89,
   "id": "9ee3ae7b",
   "metadata": {},
   "outputs": [],
   "source": [
    "#pip install gradio\n",
    "COLOR = '#FBFBF9'\n",
    "mpl.rcParams['text.color'] = COLOR\n",
    "mpl.rcParams['axes.labelcolor'] = COLOR\n",
    "mpl.rcParams['xtick.color'] = COLOR\n",
    "mpl.rcParams['ytick.color'] = COLOR\n"
   ]
  },
  {
   "cell_type": "code",
   "execution_count": 17,
   "id": "a53bb5b1",
   "metadata": {},
   "outputs": [],
   "source": [
    "import gradio as gr\n",
    "\n",
    "def product_comparison(product_a, product_b):\n",
    "    product_a_features = get_features_vector(product_a)\n",
    "    product_b_features = get_features_vector(product_b)\n",
    "    x_vals = make_features_model_consumable_forSeries(product_a_features, product_b_features)\n",
    "    return get_score(x_vals)[0], \n",
    "\n",
    "def product_comparison(product_a, product_b):\n",
    "    product_a_features = get_features_vector(product_a)\n",
    "    product_b_features = get_features_vector(product_b)\n",
    "    x_vals = make_features_model_consumable_forSeries(product_a_features, product_b_features)\n",
    "    \n",
    "    fig = get_explanations(x_vals)\n",
    "    \n",
    "    return get_score(x_vals)[0], fig\n",
    "\n",
    "ingredient_list = base_ingredients.to_list()"
   ]
  },
  {
   "cell_type": "code",
   "execution_count": 102,
   "id": "809ae885",
   "metadata": {},
   "outputs": [
    {
     "name": "stdout",
     "output_type": "stream",
     "text": [
      "Running on local URL:  http://127.0.0.1:7860\n",
      "\n",
      "Could not create share link. Please check your internet connection or our status page: https://status.gradio.app.\n"
     ]
    },
    {
     "data": {
      "text/html": [
       "<div><iframe src=\"http://127.0.0.1:7860/\" width=\"100%\" height=\"500\" allow=\"autoplay; camera; microphone; clipboard-read; clipboard-write;\" frameborder=\"0\" allowfullscreen></iframe></div>"
      ],
      "text/plain": [
       "<IPython.core.display.HTML object>"
      ]
     },
     "metadata": {},
     "output_type": "display_data"
    },
    {
     "name": "stdout",
     "output_type": "stream",
     "text": [
      "Keyboard interruption in main thread... closing server.\n"
     ]
    }
   ],
   "source": [
    "def get_explanations(x_vals): \n",
    "    max_display = 20\n",
    "    shap_values = explainer.shap_values(x_vals)[1]\n",
    "    \n",
    "    processed_shap_values = pd.DataFrame(shap_values, columns=x_vals.columns).abs().T.sort_values(0, ascending=False)\n",
    "    processed_shap_values['shap_vals'] = pd.DataFrame(shap_values, columns=x_vals.columns).T.loc[processed_shap_values.index][0]\n",
    "\n",
    "    top_features = pd.Series(processed_shap_values.head(max_display).index)\n",
    "    x_or_y = top_features.str.split('_').apply(lambda x: x[-1]).value_counts(normalize=True)\n",
    "    nutrition_features = pd.Series(entity_nutrition_facts.columns).str.split('_').apply(lambda x:x[0]).to_list()\n",
    "\n",
    "    relevant_features = top_features.str.split('_').apply(lambda x: x[0])\n",
    "    relevant_features.loc[relevant_features.isin(nutrition_features)] = 'nutrition'\n",
    "    relevant_features.loc[relevant_features=='common'] = 'molecule_name'\n",
    "    relevant_datasets = relevant_features.value_counts(normalize=True)\n",
    "\n",
    "    relevant_features2 = relevant_features +'_' + relevant_features.str.split('_').apply(lambda x: x[-1])\n",
    "    relevant_datasets_x_or_y =  relevant_features2.value_counts(normalize=True)\n",
    "\n",
    "    processed_shap_values = processed_shap_values.head(max_display)\n",
    "    processed_shap_values.loc[processed_shap_values.shap_vals > 0, 'color'] = 'deeppink'\n",
    "    processed_shap_values.loc[processed_shap_values.shap_vals <= 0, 'color'] = 'dodgerblue'\n",
    "    \n",
    "    fig = plt.figure(facecolor='#1f2937')\n",
    "    plt.suptitle('Product Explanations')\n",
    "    plt.subplot(121)\n",
    "    plt.title('Shap importance')\n",
    "    sns.barplot(y=processed_shap_values.index, x=processed_shap_values.shap_vals, palette=processed_shap_values.color, orient='h')\n",
    "    plt.box(False)\n",
    "    plt.xlabel('Shap Values',)\n",
    "    plt.ylabel('Most relevant features')\n",
    "    plt.subplot(122)\n",
    "    plt.title('General relevance')\n",
    "    pie_results = relevant_datasets.to_dict()\n",
    "    datasets_colors = {'nutrition': 'indianred', 'flavor': 'steelblue', 'molecule_name': 'cadetblue', 'profile': 'lightblue'}\n",
    "    colors=[datasets_colors.get(key) for key in pie_results.keys()]\n",
    "    plt.pie(x=pie_results.values(), labels=pie_results.keys(), startangle=90, autopct='%1.1f%%', colors=colors)\n",
    "    plt.tight_layout()\n",
    "    return fig\n",
    "\n",
    "product_description = \"Please, enter the ingredients as a list of values. You can select more than one ingredient.\"\n",
    "general_description = 'Add the list of ingredients of \"Product X\" and \"Product Y\" in the corrponding fields, then click \"Submit\". The model will compare them and obtain a coeficient that goes from 0 to 1, where 1 means that the products are indeed similar. And 0 means they are definitely not similar.  '\n",
    "\n",
    "demo = gr.Interface(\n",
    "    product_comparison,\n",
    "    [\n",
    "        gr.Dropdown(\n",
    "            ingredient_list, \n",
    "            value=['Asparagus', 'Salt', 'Water'],\n",
    "            multiselect=True, \n",
    "            label=\"Product X\", \n",
    "            info=product_description\n",
    "        ),\n",
    "        gr.Dropdown(\n",
    "            ingredient_list,\n",
    "            value=['Beans', 'Carrot', 'Corn', 'Green Beans', 'Peas'],\n",
    "            multiselect=True, \n",
    "            label=\"Product Y\", \n",
    "            info=product_description\n",
    "        ),\n",
    "    ],\n",
    "    [gr.Text(label='Model Score'), gr.Plot(label=\"Explanation\")],\n",
    "    examples=[\n",
    "        [['Asparagus', 'Salt', 'Water'],['Beans', 'Carrot', 'Corn', 'Green Beans', 'Peas']],\n",
    "        [['Amaranth', 'Banana', 'Chia', 'Flour', 'Kale', 'Lemon', 'Milk', 'Oats', 'Strawberry', 'Water', 'Yogurt'], ['Beans', 'Coconut', 'Cream', 'Milk', 'Pectin', 'Sugar']],\n",
    "        [['Crab', 'Salt'], ['Salt', 'Shrimp']],\n",
    "        [['Anchovy', 'Olive', 'Salt'], ['Salmon', 'Salt', 'Sockeye salmon']],\n",
    "        [['Salmon', 'Salt', 'Sockeye salmon'],['Anchovy', 'Olive', 'Salt']],\n",
    "        [['Barley', 'Lentils', 'Malt', 'Millet', 'Salt', 'Soybean', 'Spelt', 'Water', 'Wheat'], ['Barley', 'Buttermilk', 'Cream', 'Flour', 'Garlic', 'Malt', 'Onion', 'Salt', 'Soybean', 'Soybean Oil', 'Spread', 'Sugar', 'Water', 'Wheat']],\n",
    "\n",
    "    ],\n",
    "    title='Model Product Comparison',\n",
    "    \n",
    "    description = general_description,\n",
    ")\n",
    "\n",
    "if __name__ == \"__main__\":\n",
    "    demo.launch(share=True, debug=True)\n",
    "    #demo.close()"
   ]
  },
  {
   "cell_type": "code",
   "execution_count": 79,
   "id": "45541bb1",
   "metadata": {},
   "outputs": [],
   "source": []
  },
  {
   "cell_type": "code",
   "execution_count": null,
   "id": "763db26f",
   "metadata": {},
   "outputs": [],
   "source": []
  },
  {
   "cell_type": "markdown",
   "id": "2772971b",
   "metadata": {},
   "source": [
    "# TODO:\n",
    "\n",
    "- Include all trivial cases to the model: Same Ingredient list in productA and productB cases should have a score similarity of 1 in train.\n",
    "- Is it that what we have is the best way to represent a product, or should something else be used as \"embedding\".\n",
    "- Improve genetic algorithm (make it a more accurate genetic algorithm).\n",
    "- How can we improve the following case?: ProductA + ProductB should be the same as ProductB + ProductA.\n",
    "- Make more robust filters when comparing products. (There is some trash when a food is not completely captured).\n",
    "- Include the additives as features (take in cosideration the application of this of the producton model and the genetic algorithm).\n",
    "- Generate product instances (lists) with genetic algorithm with a good threshold.\n",
    "- Generate an app that automatically generates lists. \n",
    "- Upload data somewhere, so it can be retrieved by all the team members.\n",
    "- Upload to github, so code can be reviewed by all team members.\n"
   ]
  },
  {
   "cell_type": "code",
   "execution_count": null,
   "id": "c71f04c6",
   "metadata": {},
   "outputs": [],
   "source": []
  }
 ],
 "metadata": {
  "kernelspec": {
   "display_name": "Python 3 (ipykernel)",
   "language": "python",
   "name": "python3"
  },
  "language_info": {
   "codemirror_mode": {
    "name": "ipython",
    "version": 3
   },
   "file_extension": ".py",
   "mimetype": "text/x-python",
   "name": "python",
   "nbconvert_exporter": "python",
   "pygments_lexer": "ipython3",
   "version": "3.8.10"
  }
 },
 "nbformat": 4,
 "nbformat_minor": 5
}
